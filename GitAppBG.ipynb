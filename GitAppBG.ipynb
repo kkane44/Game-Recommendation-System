{
  "cells": [
    {
      "cell_type": "code",
      "execution_count": null,
      "metadata": {
        "id": "hOE_RyOZvKcs"
      },
      "outputs": [],
      "source": [
        "import numpy as np\n",
        "import sklearn as sk\n",
        "import pandas as pd\n",
        "import re\n",
        "from sklearn.decomposition import PCA\n",
        "from sklearn.preprocessing import StandardScaler\n",
        "from sklearn.feature_extraction.text import CountVectorizer\n",
        "from sklearn.metrics.pairwise import cosine_similarity, euclidean_distances\n",
        "from IPython.display import display, HTML\n"
      ]
    },
    {
      "cell_type": "code",
      "source": [
        "df = pd.read_csv('bgg_dataset.csv', sep=';')"
      ],
      "metadata": {
        "id": "o5HIZJIuGYq_"
      },
      "execution_count": null,
      "outputs": []
    },
    {
      "cell_type": "code",
      "execution_count": null,
      "metadata": {
        "id": "IeG3T54uumhz"
      },
      "outputs": [],
      "source": [
        "df.loc[13984, ['Year Published']] = 1855 #locate game and update the year from research\n",
        "df['Year Published'].astype(int)\n",
        "df['Rating Average'] = df['Rating Average'].replace({',': '.'}, regex=True).astype(float) #convert Rating Average to float\n",
        "df['Complexity Average'] = df['Complexity Average'].replace({',' : '.'}, regex=True).astype(float)  #convert Complexity Average to float\n",
        "df['Mechanics'] = df['Mechanics'].fillna('Not Specified')\n",
        "df['Domains'] = df['Domains'].fillna('Not Specified')"
      ]
    },
    {
      "cell_type": "code",
      "execution_count": null,
      "metadata": {
        "id": "choPDloGrkLo"
      },
      "outputs": [],
      "source": [
        "def Cleaned_text(text):\n",
        "  clean = re.sub('[^a-zA-Z0-9 ,]', '', str(text))  # substitute any character not in the character list with empty string\n",
        "  clean = clean.replace(\"/\", \",\")  #replace '/' with ','\n",
        "  return clean\n",
        "\n",
        "df['Mechanics'] = df['Mechanics'].apply(Cleaned_text)"
      ]
    },
    {
      "cell_type": "code",
      "execution_count": null,
      "metadata": {
        "id": "-5Y0afcHuwX7"
      },
      "outputs": [],
      "source": [
        "all_dummy_variables = pd.get_dummies(df['Mechanics'].str.split(', ', expand=True).stack(), prefix='mechanic').groupby(level=0).sum()"
      ]
    },
    {
      "cell_type": "code",
      "execution_count": null,
      "metadata": {
        "id": "1_una70VD19f"
      },
      "outputs": [],
      "source": [
        "df1 = pd.concat([df, all_dummy_variables], axis=1)\n",
        "df1 = df1.drop(['Mechanics', 'Users Rated', 'Name', 'Owned Users', 'BGG Rank', 'Domains', 'ID'], axis=1)"
      ]
    },
    {
      "cell_type": "code",
      "source": [
        "#define numeric values\n",
        "X_continuous = df1[['Year Published', 'Min Players', 'Max Players', 'Play Time', 'Min Age', 'Rating Average', 'Complexity Average']]\n",
        "#scale numeric values\n",
        "scaler = StandardScaler()\n",
        "X_cont_scaled = scaler.fit_transform(X_continuous)\n",
        "X_cont_scaled_df = pd.DataFrame(X_cont_scaled, columns=X_continuous.columns)\n",
        "#combine scaled with dummy mechanics variables\n",
        "X_combined = pd.concat([X_cont_scaled_df, all_dummy_variables], axis=1)"
      ],
      "metadata": {
        "id": "LuUoRRue4fzF"
      },
      "execution_count": null,
      "outputs": []
    },
    {
      "cell_type": "code",
      "source": [
        "#perform PCA with optimal number of components\n",
        "optimal_pca = PCA(n_components=8)\n",
        "X_pca = optimal_pca.fit_transform(X_combined)"
      ],
      "metadata": {
        "id": "osgovIQun6x1"
      },
      "execution_count": null,
      "outputs": []
    },
    {
      "cell_type": "code",
      "source": [
        "#calculate cosine similarity metric  --- dot product of two vectors or items\n",
        "cosine_similarity_matrix = cosine_similarity(X_pca)"
      ],
      "metadata": {
        "id": "jKibr2iStgED"
      },
      "execution_count": null,
      "outputs": []
    },
    {
      "cell_type": "code",
      "source": [
        "#create content-based recommendation algorithm using similarity score\n",
        "#find similar game titles\n",
        "all_titles = df['Name'].values\n",
        "def find_similar_titles(input_title, all_titles=all_titles):\n",
        "    similar_titles = []\n",
        "    for title in all_titles:\n",
        "        if input_title.lower() in title.lower() and input_title.lower() != title.lower() or \"expansion\" in title.lower():\n",
        "            similar_titles.append(title)\n",
        "    return similar_titles\n",
        "\n",
        "def recommendations1(name, cosine_similarity_matrix = cosine_similarity_matrix):\n",
        "  name_lower = name.lower()\n",
        "  game_found = name_lower in df['Name'].str.lower().values\n",
        "  if not game_found:  #check if game is in data\n",
        "    print(f\"No game found with the name '{name}'.\")\n",
        "    return\n",
        "  else:\n",
        "    game_index = df[df['Name'].str.lower() == name_lower].index[0]\n",
        "    print(f\"Loading recommendations for {name}...\")\n",
        "\n",
        "  sim_score = list(enumerate(cosine_similarity_matrix[game_index]))  #get list of scores\n",
        "  sim_score = sorted(sim_score, key=lambda x: x[1], reverse=True)  #sort the scores highest to lowest\n",
        "  sim_score = sim_score[1:200]  #get top 15 scores\n",
        "  item_indices = [i[0] for i in sim_score]  #get index\n",
        "\n",
        "  return df[['Name', 'Year Published', 'Rating Average', 'Complexity Average', 'Domains', 'Mechanics', 'ID']].iloc[item_indices]  #return title recommendations\n",
        "\n",
        "def bg_recommendation(name):\n",
        "  exclusions = find_similar_titles(name) # find similar titles\n",
        "  recs = recommendations1(name)\n",
        "  filtered_recs = recs[~recs['Name'].isin(exclusions)] # filter out similar titles\n",
        "  top_25 = filtered_recs.head(25).reset_index(drop=True) # get top 25\n",
        "\n",
        "  html_output = \"\"  #link to the game\n",
        "  for index, row in top_25.iterrows():\n",
        "    rec_url = f\"https://boardgamegeek.com/boardgame/{row['ID']}/\"\n",
        "    html_output += f\"<a href='{rec_url}'>{row['Name']}</a><br>\"\n",
        "\n",
        "  return html_output, top_25"
      ],
      "metadata": {
        "id": "gSzI-CkZNqLx"
      },
      "execution_count": null,
      "outputs": []
    },
    {
      "cell_type": "code",
      "source": [
        "from fuzzywuzzy import fuzz, process"
      ],
      "metadata": {
        "colab": {
          "base_uri": "https://localhost:8080/"
        },
        "id": "wi4CQafsY1yI",
        "outputId": "ea34cef8-7a3b-4125-c327-26820c10accc"
      },
      "execution_count": null,
      "outputs": [
        {
          "output_type": "stream",
          "name": "stderr",
          "text": [
            "/usr/local/lib/python3.10/dist-packages/fuzzywuzzy/fuzz.py:11: UserWarning: Using slow pure-python SequenceMatcher. Install python-Levenshtein to remove this warning\n",
            "  warnings.warn('Using slow pure-python SequenceMatcher. Install python-Levenshtein to remove this warning')\n"
          ]
        }
      ]
    },
    {
      "cell_type": "code",
      "source": [
        "#calculate Movie Finder Function\n",
        "#use library fuzzy wuzzy to calculate the differences between game titles --- calculates Levenshtein Distance\n",
        "\n",
        "def find_matches(user_input, threshold=80):\n",
        "  game_titles = df['Name'].values\n",
        "  user = user_input.lower()\n",
        "  title_score = [(title, fuzz.partial_ratio(user, title.lower())) for title in game_titles]\n",
        "  matches = [title for title, score in title_score if score >=threshold]\n",
        "  matches.sort(key=lambda x: x[1], reverse=True)\n",
        "  return matches"
      ],
      "metadata": {
        "id": "uNTbpsg2Yt_E"
      },
      "execution_count": null,
      "outputs": []
    },
    {
      "cell_type": "code",
      "source": [
        "import pickle"
      ],
      "metadata": {
        "id": "I_BVk65ci2q6"
      },
      "execution_count": null,
      "outputs": []
    },
    {
      "cell_type": "code",
      "source": [
        "import streamlit as st\n",
        "\n",
        "#load\n",
        "with open(r'C:\\Users\\katie\\OneDrive\\Documents\\DS Capstone\\App\\find_matches.pk1', 'rb') as f:\n",
        "  find_matches = pickle.load(f)\n",
        "\n",
        "with open(r'C:\\Users\\katie\\OneDrive\\Documents\\DS Capstone\\App\\recmodel.pk1', 'rb') as f:\n",
        "    load_model = pickle.load(f)\n",
        "    bg_rec = load_model[0]\n",
        "\n",
        "# Streamlit UI\n",
        "st.title('Game Recommendation System 🎲')\n",
        "\n",
        "# Input field for user to enter game name\n",
        "user_input = st.text_input('Enter the name of the game:', 'Catan')\n",
        "\n",
        "# Button to trigger potential matches\n",
        "if st.button('Find Potential Matches'):\n",
        "    potential_matches = find_matches(user_input)\n",
        "    #display matches\n",
        "    if potential_matches:\n",
        "      selected_match = st.selectbox('Select a potential match:', [f\"{title}\" for title in potential_matches])\n",
        "      st.write(f\"Selected Match: {selected_match}\")\n",
        "    else:\n",
        "      st.write('❌ No matches found for the entered game name. Please try again with a different name.')\n",
        "\n",
        "    #generate recs button\n",
        "    if st.button('Generate Recommendations'):\n",
        "      with st.spinner('Loading recommendations...'):\n",
        "        game_name = selected_match.split(' ')[0]\n",
        "        html_output, recommendations = bg_rec(game_name)\n",
        "        st.markdown(html_output, unsafe_allow_html=True)\n",
        "\n",
        "        if not recommendations.empty:\n",
        "          st.subheader('🌟 Top Recommendations:')\n",
        "          st.write(recommendations)\n",
        "        else:\n",
        "          st.warning('❌ No recommendations found for the entered game name. Please try again with a different name.')"
      ],
      "metadata": {
        "id": "VAAG4KQYJLy9"
      },
      "execution_count": null,
      "outputs": []
    }
  ],
  "metadata": {
    "colab": {
      "provenance": []
    },
    "kernelspec": {
      "display_name": "Python 3",
      "name": "python3"
    },
    "language_info": {
      "name": "python"
    }
  },
  "nbformat": 4,
  "nbformat_minor": 0
}